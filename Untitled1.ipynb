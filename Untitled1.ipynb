{
 "cells": [
  {
   "cell_type": "code",
   "execution_count": 1,
   "metadata": {},
   "outputs": [],
   "source": [
    "from itertools import product"
   ]
  },
  {
   "cell_type": "code",
   "execution_count": 7,
   "metadata": {},
   "outputs": [
    {
     "name": "stdout",
     "output_type": "stream",
     "text": [
      "a=1, b=1, n =1.0\n",
      "a=2, b=8, n =4.0\n",
      "a=3, b=27, n =9.0\n",
      "a=4, b=64, n =16.0\n",
      "a=5, b=125, n =25.0\n",
      "a=6, b=216, n =36.0\n",
      "a=7, b=343, n =49.0\n",
      "a=8, b=2, n =4.0\n",
      "a=8, b=30, n =4.0\n",
      "a=8, b=512, n =64.0\n",
      "a=9, b=729, n =81.0\n",
      "a=10, b=1000, n =100.0\n",
      "a=11, b=1331, n =121.0\n",
      "a=12, b=1728, n =144.0\n",
      "a=13, b=2197, n =169.0\n",
      "a=14, b=2744, n =196.0\n",
      "a=15, b=3375, n =225.0\n",
      "a=16, b=4096, n =256.0\n",
      "a=17, b=4913, n =289.0\n",
      "a=18, b=5832, n =324.0\n",
      "a=19, b=6859, n =361.0\n",
      "a=20, b=8000, n =400.0\n",
      "a=21, b=9261, n =441.0\n",
      "a=27, b=3, n =9.0\n",
      "a=27, b=240, n =9.0\n",
      "a=30, b=8, n =4.0\n",
      "a=30, b=112, n =4.0\n",
      "a=64, b=4, n =16.0\n",
      "a=64, b=1020, n =16.0\n",
      "a=112, b=30, n =4.0\n",
      "a=112, b=418, n =4.0\n",
      "a=125, b=5, n =25.0\n",
      "a=125, b=3120, n =25.0\n",
      "a=216, b=6, n =36.0\n",
      "a=216, b=7770, n =36.0\n",
      "a=240, b=27, n =9.0\n",
      "a=240, b=2133, n =9.0\n",
      "a=343, b=7, n =49.0\n",
      "a=418, b=112, n =4.0\n",
      "a=418, b=1560, n =4.0\n",
      "a=512, b=8, n =64.0\n",
      "a=729, b=9, n =81.0\n",
      "a=1000, b=10, n =100.0\n",
      "a=1020, b=64, n =16.0\n",
      "a=1331, b=11, n =121.0\n",
      "a=1560, b=418, n =4.0\n",
      "a=1560, b=5822, n =4.0\n",
      "a=1728, b=12, n =144.0\n",
      "a=2133, b=240, n =9.0\n",
      "a=2197, b=13, n =169.0\n",
      "a=2744, b=14, n =196.0\n",
      "a=3120, b=125, n =25.0\n",
      "a=3375, b=15, n =225.0\n",
      "a=4096, b=16, n =256.0\n",
      "a=4913, b=17, n =289.0\n",
      "a=5822, b=1560, n =4.0\n",
      "a=5832, b=18, n =324.0\n",
      "a=6859, b=19, n =361.0\n",
      "a=7770, b=216, n =36.0\n",
      "a=8000, b=20, n =400.0\n",
      "a=9261, b=21, n =441.0\n"
     ]
    }
   ],
   "source": [
    "N = 10000\n",
    "for (a,b) in product(range(1,N), range(1,N)):\n",
    "    if((a**2 + b**2) % (a*b + 1) == 0):\n",
    "        print(f\"a={a}, b={b}, n ={(a**2+b**2)/(a*b+1)}\")"
   ]
  },
  {
   "cell_type": "code",
   "execution_count": 6,
   "metadata": {},
   "outputs": [
    {
     "data": {
      "text/plain": [
       "729"
      ]
     },
     "execution_count": 6,
     "metadata": {},
     "output_type": "execute_result"
    }
   ],
   "source": [
    "9**3"
   ]
  }
 ],
 "metadata": {
  "kernelspec": {
   "display_name": "Python 3",
   "language": "python",
   "name": "python3"
  },
  "language_info": {
   "codemirror_mode": {
    "name": "ipython",
    "version": 3
   },
   "file_extension": ".py",
   "mimetype": "text/x-python",
   "name": "python",
   "nbconvert_exporter": "python",
   "pygments_lexer": "ipython3",
   "version": "3.7.4"
  }
 },
 "nbformat": 4,
 "nbformat_minor": 2
}
